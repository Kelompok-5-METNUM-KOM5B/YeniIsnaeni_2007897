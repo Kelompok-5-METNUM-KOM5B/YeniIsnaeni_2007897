{
  "nbformat": 4,
  "nbformat_minor": 0,
  "metadata": {
    "colab": {
      "provenance": []
    },
    "kernelspec": {
      "name": "python3",
      "display_name": "Python 3"
    },
    "language_info": {
      "name": "python"
    }
  },
  "cells": [
    {
      "cell_type": "markdown",
      "source": [
        "# **SISTEM PERSAMAAN LINIER**\n",
        "2007897_Yeni Isnaeni_Pendidikan Ilmu Komputer B"
      ],
      "metadata": {
        "id": "WA_VdOzZgAIu"
      }
    },
    {
      "cell_type": "markdown",
      "source": [
        "Metode Gauss"
      ],
      "metadata": {
        "id": "uFrcrUyIg3RV"
      }
    },
    {
      "cell_type": "code",
      "source": [
        "import numpy as np #import library numpy\n",
        "import sys #import library sys\n",
        " \n",
        "n = int(input('Input jumlah variabel: ')) #deklarasikan variabel\n",
        "a = np.zeros((n,n+1)) #deklarasikan matriks \n",
        "x = np.zeros(n) #deklarasikan matriks kosong untuk hasil\n",
        "print('Input koefisien dan nilai kanan pada SPL:')\n",
        "for i in range(n): #melakukan perulangan\n",
        "    for j in range(n+1):\n",
        "        a[i][j] = float(input( 'a['+str(i)+']['+ str(j)+']='))\n",
        "for i in range(n):\n",
        "    if a[i][i] == 0.0: #mengecek kondisi\n",
        "        sys.exit('Terdapat nilai 0 pada diagonal utama') #tidak boleh ada nilai 0 pada diagonal utama\n",
        "         \n",
        "    for j in range(i+1, n): #melakukan perulangan\n",
        "        ratio = a[j][i]/a[i][i] #mencari ratio\n",
        "         \n",
        "        for k in range(n+1):\n",
        "            a[j][k] = a[j][k] - ratio * a[i][k] \n",
        "            \n",
        "x[n-1] = a[n-1][n]/a[n-1][n-1] #metode sulih\n",
        " \n",
        "for i in range(n-2,-1,-1):\n",
        "    x[i] = a[i][n]\n",
        "     \n",
        "    for j in range(i+1,n):\n",
        "        x[i] = x[i] - a[i][j]*x[j]\n",
        "     \n",
        "    x[i] = x[i]/a[i][i]\n",
        " \n",
        "print('\\nSolusi SPL adalah: ') #menampilkan hasil\n",
        "for i in range(n):\n",
        "    print('X%d = %0.2f' %(i,x[i]), end = '\\t')"
      ],
      "metadata": {
        "colab": {
          "base_uri": "https://localhost:8080/"
        },
        "id": "uihMwvNIg9iz",
        "outputId": "88cf0a98-d0c2-4cbb-ac2f-31b81c379940"
      },
      "execution_count": 1,
      "outputs": [
        {
          "output_type": "stream",
          "name": "stdout",
          "text": [
            "Input jumlah variabel: 3\n",
            "Input koefisien dan nilai kanan pada SPL:\n",
            "a[0][0]=2\n",
            "a[0][1]=1\n",
            "a[0][2]=-5\n",
            "a[0][3]=6\n",
            "a[1][0]=3\n",
            "a[1][1]=4\n",
            "a[1][2]=6\n",
            "a[1][3]=7\n",
            "a[2][0]=1\n",
            "a[2][1]=3\n",
            "a[2][2]=8\n",
            "a[2][3]=2\n",
            "\n",
            "Solusi SPL adalah: \n",
            "X0 = 1.67\tX1 = 1.00\tX2 = -0.33\t"
          ]
        }
      ]
    },
    {
      "cell_type": "markdown",
      "source": [
        "Metode Gauss Jordan"
      ],
      "metadata": {
        "id": "CmM8guVghAfK"
      }
    },
    {
      "cell_type": "code",
      "source": [
        "import numpy as np #import library numpy\n",
        "import sys #import library sys\n",
        "\n",
        "n = int(input('Input jumlah variabel: ')) #deklarasikan variabel\n",
        "a = np.zeros((n,n+1)) #memasukan nilai matriks\n",
        "x = np.zeros(n) #membuat matriks nol\n",
        "print('Input koefisien dan nilai kanan pada SPL:')\n",
        "for i in range(n):\n",
        "    for j in range(n+1):\n",
        "        a[i][j] = float(input( 'a['+str(i)+']['+ str(j)+']='))\n",
        "\n",
        "for i in range(n): #mencari nilai diagonal utama\n",
        "    if a[i][i] == 0.0:\n",
        "        sys.exit('Terdapat nilai 0 pada diagonal utama')\n",
        "        \n",
        "    for j in range(n):\n",
        "        if i != j:\n",
        "            ratio = a[j][i]/a[i][i]\n",
        "\n",
        "            for k in range(n+1):\n",
        "                a[j][k] = a[j][k] - ratio * a[i][k]\n",
        "\n",
        "for i in range(n):\n",
        "    x[i] = a[i][n]/a[i][i]\n",
        "\n",
        "print('\\nSolusi SPL adalah: ') #menampilkan hasil\n",
        "for i in range(n):\n",
        "    print('X%d = %0.2f' %(i,x[i]), end = '\\t')"
      ],
      "metadata": {
        "colab": {
          "base_uri": "https://localhost:8080/"
        },
        "id": "N7NxyhijhC8Y",
        "outputId": "1c9b1e6c-803e-43be-8814-15cd97473d7f"
      },
      "execution_count": 2,
      "outputs": [
        {
          "output_type": "stream",
          "name": "stdout",
          "text": [
            "Input jumlah variabel: 3\n",
            "Input koefisien dan nilai kanan pada SPL:\n",
            "a[0][0]=3\n",
            "a[0][1]=0\n",
            "a[0][2]=1\n",
            "a[0][3]=3\n",
            "a[1][0]=2\n",
            "a[1][1]=2\n",
            "a[1][2]=6\n",
            "a[1][3]=8\n",
            "a[2][0]=4\n",
            "a[2][1]=2\n",
            "a[2][2]=-5\n",
            "a[2][3]=7\n",
            "\n",
            "Solusi SPL adalah: \n",
            "X0 = 0.91\tX1 = 2.31\tX2 = 0.26\t"
          ]
        }
      ]
    },
    {
      "cell_type": "markdown",
      "source": [
        "Metode Dekomposisi LU"
      ],
      "metadata": {
        "id": "PSJ7AddkhJas"
      }
    },
    {
      "cell_type": "code",
      "source": [
        "import numpy as np #import library numpy\n",
        "\n",
        "\n",
        "n = int(input('Masukan Jumlah Ordo: ')) #deklarasikan variabel untuk jumlah ordo\n",
        "A = np.zeros((n,n+1)) #membuat matriks\n",
        "\n",
        "x = np.zeros(n) #deklarasikan matriks kosong untuk hasil\n",
        "\n",
        "for i in range(n): #melakukan perulangan\n",
        "    for j in range(n):\n",
        "        A[i][j] = float(input( 'A['+str(i)+']['+ str(j)+']='))\n",
        "print('\\nMatrix A : ')\n",
        "\n",
        "# mengubah menjadi matriks \n",
        "def show(matrix):\n",
        "    n = len(matrix)\n",
        "    for row in range(n):\n",
        "      for col in range(n):\n",
        "        print('%.2f' % matrix[row][col], end=\"\\t\")\n",
        "      print(\"\")\n",
        "\n",
        "show(A) #menampilkan hasil\n",
        "\n",
        "def decomposition(A):\n",
        "  # mengetahui jumlah baris dari matriks A\n",
        "  n = len(A)\n",
        "  # membuat 0 \n",
        "  L = [[0 for row in range(n)]\n",
        "       for col in range(n)]\n",
        "  U = [[0 for row in range(n)]\n",
        "       for col in range(n)]\n",
        "  \n",
        "  for p in range(n):\n",
        "    # Matriks U (segitiga atas)\n",
        "    for j in range(p,n):\n",
        "      # penjumlahan L(p,k)*U(k,j)\n",
        "      sum = 0\n",
        "      for k in range(p):\n",
        "        sum = sum + L[p][k]*U[k][j]\n",
        "      U[p][j] = A[p][j] - sum\n",
        "    # Matriks L (segitiga bawah)\n",
        "    q = p\n",
        "    for i in range (q,n):\n",
        "      if (i==q):\n",
        "        # diagonal of L\n",
        "        L[i][q]=1\n",
        "      else:\n",
        "        # penjumlahan L(i,k)*U(k,q)\n",
        "        sum = 0\n",
        "        for k in range(q):\n",
        "          sum = sum + L[i][k]*U[k][q]\n",
        "        L[i][q] = (A[i][q] - sum)/U[q][q]\n",
        "\n",
        "    return L, U\n",
        "\n",
        "L, U = decomposition(A)\n",
        "# menampilkan nilai matriks\n",
        "print(\"\\nMatrix L :\")\n",
        "show(L)\n",
        "\n",
        "print(\"\\nMatrix U :\")\n",
        "show(U)"
      ],
      "metadata": {
        "colab": {
          "base_uri": "https://localhost:8080/"
        },
        "id": "FtN6KWo0hL4s",
        "outputId": "0a96bc84-73f9-4c51-c466-c96f859ebe12"
      },
      "execution_count": 3,
      "outputs": [
        {
          "output_type": "stream",
          "name": "stdout",
          "text": [
            "Masukan Jumlah Ordo: 3\n",
            "A[0][0]=3\n",
            "A[0][1]=2\n",
            "A[0][2]=1\n",
            "A[1][0]=8\n",
            "A[1][1]=4\n",
            "A[1][2]=3\n",
            "A[2][0]=2\n",
            "A[2][1]=6\n",
            "A[2][2]=2\n",
            "\n",
            "Matrix A : \n",
            "3.00\t2.00\t1.00\t\n",
            "8.00\t4.00\t3.00\t\n",
            "2.00\t6.00\t2.00\t\n",
            "\n",
            "Matrix L :\n",
            "1.00\t0.00\t0.00\t\n",
            "2.67\t0.00\t0.00\t\n",
            "0.67\t0.00\t0.00\t\n",
            "\n",
            "Matrix U :\n",
            "3.00\t2.00\t1.00\t\n",
            "0.00\t0.00\t0.00\t\n",
            "0.00\t0.00\t0.00\t\n"
          ]
        }
      ]
    }
  ]
}