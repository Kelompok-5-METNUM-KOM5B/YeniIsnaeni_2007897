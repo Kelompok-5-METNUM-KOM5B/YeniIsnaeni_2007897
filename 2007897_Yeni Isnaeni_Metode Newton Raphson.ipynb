{
  "nbformat": 4,
  "nbformat_minor": 0,
  "metadata": {
    "colab": {
      "provenance": [],
      "collapsed_sections": []
    },
    "kernelspec": {
      "name": "python3",
      "display_name": "Python 3"
    },
    "language_info": {
      "name": "python"
    }
  },
  "cells": [
    {
      "cell_type": "code",
      "execution_count": 6,
      "metadata": {
        "colab": {
          "base_uri": "https://localhost:8080/"
        },
        "id": "MqWnkuaZItu3",
        "outputId": "a06f46f8-812e-429b-8c66-21df49ec0abf"
      },
      "outputs": [
        {
          "output_type": "stream",
          "name": "stdout",
          "text": [
            "Metode Newton Raphson\n",
            "Tebakan Awal: 3\n",
            "Toleransi Error: 0.0001\n",
            "Maksimum Iterasi: 4\n",
            "Iterasi ke-1, x1 = 4.250000 dan f(x1) = 1.562500\n",
            "Iterasi ke-2, x1 = 4.009615 dan f(x1) = 0.057785\n",
            "Iterasi ke-3, x1 = 4.000015 dan f(x1) = 0.000092\n",
            "\n",
            "Akar yang dihasilkan adalah : 4.00001536\n"
          ]
        }
      ],
      "source": [
        "#Yeni Isnaeni_2007897\n",
        "#Metode Newton Raphson \n",
        "\n",
        "#mendefinisikan fungsi f(x)\n",
        "def f(x): \n",
        "    return x**2 - 2*x - 8\n",
        "\n",
        "#mendefinisikan turunan fungsi f(x)\n",
        "def g(x): \n",
        "    return 2*x - 2\n",
        "\n",
        "#mendefinisikan fungsi untuk metode Newton Raphson\n",
        "def newtonRaphson(x0,e,N):\n",
        "    step = 1 #mendeklarasikan variabel untuk menyimpan hasil putaran\n",
        "    flag = 1\n",
        "    condition = True\n",
        "    while condition:\n",
        "        if g(x0) == 0.0: #Nilai turunan f(x) tidak boleh = 0 karena tidak akan bisa melakukan tebakan akar\n",
        "            print('Turunan tidak boleh = 0')\n",
        "            break\n",
        "        \n",
        "        x1 = x0 - f(x0)/g(x0) #Penggunaan Teorema Taylor \n",
        "        print('Iterasi ke-%d, x1 = %0.6f dan f(x1) = %0.6f' % (step, x1, f(x1))) #Mencetak iterasi secara berulang saat syarat terpenuhi\n",
        "        x0 = x1 \n",
        "        step = step + 1 \n",
        "        \n",
        "        if step > N:\n",
        "            flag = 0\n",
        "            break\n",
        "        \n",
        "        condition = abs(f(x1)) > e\n",
        "    \n",
        "    if flag==1:\n",
        "        print('\\nAkar yang dihasilkan adalah : %0.8f' % x1)\n",
        "    else:\n",
        "        print('\\nTidak Konvergen.')\n",
        "\n",
        "\n",
        "#menginput data\n",
        "print('Metode Newton Raphson')\n",
        "x0 = input('Tebakan Awal: ')\n",
        "e = input('Toleransi Error: ')\n",
        "N = input('Maksimum Iterasi: ')\n",
        "\n",
        "#mengkonversi input ke float dan/atau int \n",
        "x0 = float(x0)\n",
        "e = float(e)\n",
        "N = int(N)\n",
        "\n",
        "#melakukan perintah newtonRaphson\n",
        "newtonRaphson(x0,e,N) "
      ]
    }
  ]
}
