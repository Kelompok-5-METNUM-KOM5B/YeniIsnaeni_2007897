{
  "nbformat": 4,
  "nbformat_minor": 0,
  "metadata": {
    "colab": {
      "provenance": []
    },
    "kernelspec": {
      "name": "python3",
      "display_name": "Python 3"
    },
    "language_info": {
      "name": "python"
    }
  },
  "cells": [
    {
      "cell_type": "markdown",
      "source": [
        "## **Akar Persamaan Non-Linier**\n",
        "Berikut ini merupakan fungsi dasar dari metode yang dapat digunakan untuk mencari akar Persamaan non-Linier"
      ],
      "metadata": {
        "id": "Tlb0XvJxS_oW"
      }
    },
    {
      "cell_type": "markdown",
      "source": [
        "**Pencarian Akar dengan Library**\n",
        "\n",
        "Contoh Fungsi: f(x) = cos(x)-x"
      ],
      "metadata": {
        "id": "8zXDT3F6UTm8"
      }
    },
    {
      "cell_type": "code",
      "source": [
        "import numpy as np #memanggil library numpy python\n",
        "from scipy import optimize #memanggil fungsi optimize dari library scipy untuk perhitungan linier\n",
        "#mendeklarasikan variabel \n",
        "f = lambda x: np.cos(x) - x\n",
        "#mencari akar\n",
        "r = optimize.fsolve(f, -2)\n",
        "print(\"r =\",r)\n",
        "#verify the solution is a root\n",
        "result = f(r)\n",
        "print(\"result=\", result)"
      ],
      "metadata": {
        "colab": {
          "base_uri": "https://localhost:8080/"
        },
        "id": "gMnlEqjjUnAa",
        "outputId": "dba31922-a0e9-40d4-b136-dad342f9b7fa"
      },
      "execution_count": null,
      "outputs": [
        {
          "output_type": "stream",
          "name": "stdout",
          "text": [
            "r = [0.73908513]\n",
            "result= [0.]\n"
          ]
        }
      ]
    },
    {
      "cell_type": "markdown",
      "source": [
        "**Metode Bagi Dua**"
      ],
      "metadata": {
        "id": "ySxrsdzGTn0Z"
      }
    },
    {
      "cell_type": "code",
      "execution_count": null,
      "metadata": {
        "id": "j7lAxfNeS9M0"
      },
      "outputs": [],
      "source": [
        "import numpy as np #memanggil library numpy python\n",
        "#membuat fungsi\n",
        "def my_bisection(f, a, b, e):\n",
        "  if np.sign(f(a)) == np.sign(f(b)): #memeriksa apakah f(a)=f(b)\n",
        "    raise Exception('Tidak ada akar pada interval a dan b') # jika ya, maka akar tidak ditemukan\n",
        "  m = (a + b)/2 #rumus untuk mencari nilai tengah\n",
        "  if np.abs(f(m)) < e: #mengecek apakah f(m) kurang dari epsilon\n",
        "    return m\n",
        "  elif np.sign(f(a)) == np.sign(f(m)): #mengecek apakah f(a)=f(m)\n",
        "    return my_bisection(f, m, b, e)\n",
        "  elif np.sign(f(b)) == np.sign(f(m)): #mengecek apakah f(b)=f(m)\n",
        "    return my_bisection(f, a, m, e)"
      ]
    },
    {
      "cell_type": "markdown",
      "source": [
        "**Contoh Pencarian Akar dengan Metode Bagi Dua**\n",
        "\n",
        "f(x)=x^2 - 2"
      ],
      "metadata": {
        "id": "QK5X5eINXZln"
      }
    },
    {
      "cell_type": "code",
      "source": [
        "\n",
        "import numpy as np #memanggil library numpy python\n",
        "#mendeklarasikan variabel\n",
        "f = lambda x: x**2-2\n",
        "\n",
        "r1 = my_bisection(f, 0, 2, 0.1)\n",
        "print(\"r1 =\", r1)\n",
        "print(\"f(r1) =\", f(r1))\n",
        "\n",
        "r01 = my_bisection(f, 0, 2, 0.01)\n",
        "print(\"r01 =\", r01)\n",
        "print(\"f(r01) =\", f(r01))"
      ],
      "metadata": {
        "colab": {
          "base_uri": "https://localhost:8080/"
        },
        "id": "eJr_l7e2XyM0",
        "outputId": "9f0a0bf6-a59a-4ae7-fc1c-e4c436d940ea"
      },
      "execution_count": null,
      "outputs": [
        {
          "output_type": "stream",
          "name": "stdout",
          "text": [
            "r1 = 1.4375\n",
            "f(r1) = 0.06640625\n",
            "r01 = 1.4140625\n",
            "f(r01) = -0.00042724609375\n"
          ]
        }
      ]
    },
    {
      "cell_type": "code",
      "source": [
        "import numpy as np #memanggil library numpy python\n",
        "#mendeklarasikan variabel\n",
        "f = lambda x: x**2-2\n",
        "my_bisection(f, 2, 4, 0.01)"
      ],
      "metadata": {
        "colab": {
          "base_uri": "https://localhost:8080/",
          "height": 322
        },
        "id": "wXEmWDL3Yh1R",
        "outputId": "66a66430-8175-4210-f0f5-180d79f1eb76"
      },
      "execution_count": null,
      "outputs": [
        {
          "output_type": "error",
          "ename": "Exception",
          "evalue": "ignored",
          "traceback": [
            "\u001b[0;31m---------------------------------------------------------------------------\u001b[0m",
            "\u001b[0;31mException\u001b[0m                                 Traceback (most recent call last)",
            "\u001b[0;32m<ipython-input-13-9db7d48a44ca>\u001b[0m in \u001b[0;36m<module>\u001b[0;34m\u001b[0m\n\u001b[1;32m      1\u001b[0m \u001b[0;32mimport\u001b[0m \u001b[0mnumpy\u001b[0m \u001b[0;32mas\u001b[0m \u001b[0mnp\u001b[0m \u001b[0;31m#panggil library\u001b[0m\u001b[0;34m\u001b[0m\u001b[0;34m\u001b[0m\u001b[0m\n\u001b[1;32m      2\u001b[0m \u001b[0mf\u001b[0m \u001b[0;34m=\u001b[0m \u001b[0;32mlambda\u001b[0m \u001b[0mx\u001b[0m\u001b[0;34m:\u001b[0m \u001b[0mx\u001b[0m\u001b[0;34m**\u001b[0m\u001b[0;36m2\u001b[0m\u001b[0;34m-\u001b[0m\u001b[0;36m2\u001b[0m\u001b[0;34m\u001b[0m\u001b[0;34m\u001b[0m\u001b[0m\n\u001b[0;32m----> 3\u001b[0;31m \u001b[0mmy_bisection\u001b[0m\u001b[0;34m(\u001b[0m\u001b[0mf\u001b[0m\u001b[0;34m,\u001b[0m \u001b[0;36m2\u001b[0m\u001b[0;34m,\u001b[0m \u001b[0;36m4\u001b[0m\u001b[0;34m,\u001b[0m \u001b[0;36m0.01\u001b[0m\u001b[0;34m)\u001b[0m\u001b[0;34m\u001b[0m\u001b[0;34m\u001b[0m\u001b[0m\n\u001b[0m",
            "\u001b[0;32m<ipython-input-11-232ee789a6b2>\u001b[0m in \u001b[0;36mmy_bisection\u001b[0;34m(f, a, b, e)\u001b[0m\n\u001b[1;32m      2\u001b[0m \u001b[0;32mdef\u001b[0m \u001b[0mmy_bisection\u001b[0m\u001b[0;34m(\u001b[0m\u001b[0mf\u001b[0m\u001b[0;34m,\u001b[0m \u001b[0ma\u001b[0m\u001b[0;34m,\u001b[0m \u001b[0mb\u001b[0m\u001b[0;34m,\u001b[0m \u001b[0me\u001b[0m\u001b[0;34m)\u001b[0m\u001b[0;34m:\u001b[0m\u001b[0;34m\u001b[0m\u001b[0;34m\u001b[0m\u001b[0m\n\u001b[1;32m      3\u001b[0m   \u001b[0;32mif\u001b[0m \u001b[0mnp\u001b[0m\u001b[0;34m.\u001b[0m\u001b[0msign\u001b[0m\u001b[0;34m(\u001b[0m\u001b[0mf\u001b[0m\u001b[0;34m(\u001b[0m\u001b[0ma\u001b[0m\u001b[0;34m)\u001b[0m\u001b[0;34m)\u001b[0m \u001b[0;34m==\u001b[0m \u001b[0mnp\u001b[0m\u001b[0;34m.\u001b[0m\u001b[0msign\u001b[0m\u001b[0;34m(\u001b[0m\u001b[0mf\u001b[0m\u001b[0;34m(\u001b[0m\u001b[0mb\u001b[0m\u001b[0;34m)\u001b[0m\u001b[0;34m)\u001b[0m\u001b[0;34m:\u001b[0m\u001b[0;34m\u001b[0m\u001b[0;34m\u001b[0m\u001b[0m\n\u001b[0;32m----> 4\u001b[0;31m     \u001b[0;32mraise\u001b[0m \u001b[0mException\u001b[0m\u001b[0;34m(\u001b[0m\u001b[0;34m'Tidak ada akar pada interval a dan b'\u001b[0m\u001b[0;34m)\u001b[0m\u001b[0;34m\u001b[0m\u001b[0;34m\u001b[0m\u001b[0m\n\u001b[0m\u001b[1;32m      5\u001b[0m   \u001b[0mm\u001b[0m \u001b[0;34m=\u001b[0m \u001b[0;34m(\u001b[0m\u001b[0ma\u001b[0m \u001b[0;34m+\u001b[0m \u001b[0mb\u001b[0m\u001b[0;34m)\u001b[0m\u001b[0;34m/\u001b[0m\u001b[0;36m2\u001b[0m\u001b[0;34m\u001b[0m\u001b[0;34m\u001b[0m\u001b[0m\n\u001b[1;32m      6\u001b[0m   \u001b[0;32mif\u001b[0m \u001b[0mnp\u001b[0m\u001b[0;34m.\u001b[0m\u001b[0mabs\u001b[0m\u001b[0;34m(\u001b[0m\u001b[0mf\u001b[0m\u001b[0;34m(\u001b[0m\u001b[0mm\u001b[0m\u001b[0;34m)\u001b[0m\u001b[0;34m)\u001b[0m \u001b[0;34m<\u001b[0m \u001b[0me\u001b[0m\u001b[0;34m:\u001b[0m\u001b[0;34m\u001b[0m\u001b[0;34m\u001b[0m\u001b[0m\n",
            "\u001b[0;31mException\u001b[0m: Tidak ada akar pada interval a dan b"
          ]
        }
      ]
    },
    {
      "cell_type": "markdown",
      "source": [
        "**Metode Newton-Raphson**"
      ],
      "metadata": {
        "id": "uqd3qNtxS939"
      }
    },
    {
      "cell_type": "code",
      "source": [
        "import numpy as np #memanggil library numpy python\n",
        "def my_newton(f, df, x0, e):\n",
        "# output is an estimation of the root of f\n",
        "# using the Newton-Raphson method\n",
        "# recursive implementation\n",
        "  if abs(f(x0)) < e:\n",
        "    return x0\n",
        "  else:\n",
        "    return my_newton(f, df, x0 - f(x0)/df(x0), e)"
      ],
      "metadata": {
        "id": "NWM7-9tpVr0a"
      },
      "execution_count": null,
      "outputs": []
    },
    {
      "cell_type": "markdown",
      "source": [
        "**Contoh Pencarian Akar dengan Metode Bagi Dua**\n",
        "\n",
        "f(x)=x^2 - 2"
      ],
      "metadata": {
        "id": "ffztAnc9ZbtI"
      }
    },
    {
      "cell_type": "code",
      "source": [
        "f = lambda x: x**2-2\n",
        "f_prime = lambda x: 2*x\n",
        "estimate = my_newton(f, f_prime, 1.5, 1e-6)\n",
        "print(\"estimate =\", estimate)\n",
        "print(\"sqrt(2) =\",np.sqrt(2))"
      ],
      "metadata": {
        "colab": {
          "base_uri": "https://localhost:8080/"
        },
        "id": "zFJnxIytZhln",
        "outputId": "e6d71caf-ed8a-4bd9-8946-7e39709d49c1"
      },
      "execution_count": null,
      "outputs": [
        {
          "output_type": "stream",
          "name": "stdout",
          "text": [
            "estimate = 1.4142135623746899\n",
            "sqrt(2) = 1.4142135623730951\n"
          ]
        }
      ]
    },
    {
      "cell_type": "markdown",
      "source": [
        "# **Latihan**"
      ],
      "metadata": {
        "id": "_l79MbNaaO9N"
      }
    },
    {
      "cell_type": "markdown",
      "source": [
        "**No.1 **\n",
        "Buatlah sebuah fungsi penyelesaian yang tepat baik dengan menggunakan metode Bagi Dua maupun Newton Raphson ketika \n",
        "\n",
        "a. f(x) = x^3 - 2x + 1\n",
        "\n",
        "b. f(x) = e^x - x\n",
        "\n",
        "**No 2**\n",
        "\n",
        "Buatlah modifikasi fungsi ketika kriteria program berhenti adalah sudah mencapai pada iterasi ke-n baik untuk Bagi Dua maupun Newton Raphson"
      ],
      "metadata": {
        "id": "XX6f9MQOaTas"
      }
    },
    {
      "cell_type": "code",
      "source": [
        "#Yeni Isnaeni_2007897_Pendidikan Ilmu Komputer B\n",
        "#No 1A\n",
        "#Metode Bagi Dua\n",
        "\n",
        "#memanggil library\n",
        "from cmath import e \n",
        "from tkinter import E\n",
        "\n",
        "#mendefinisikan fungsi f(x)\n",
        "def f(x): \n",
        "    return x**3-2*x+1 \n",
        "\n",
        "#mendefinisikan fungsi untuk metode bagi dua\n",
        "def bagidua(a,b,e): \n",
        "    #mendeklarasikan variabel untuk menyimpan hasil putaran\n",
        "    step = 1 \n",
        "\n",
        "    condition = True #jika kondisi ya maka perulangan akan terus berjalan\n",
        "    while condition:\n",
        "        c = (a + b)/2 #rumus mencari titik tengah dari interval [a,b]\n",
        "        print('Iterasi ke-%d, c = %0.6f dan f(c) = %0.6f' % (step, c, f(c))) #ketika syarat perulangan dipenuhi, maka cetak iterasi ke- secara berulang\n",
        "        #percabangan untuk menentukan nilai c akan menggantikan a atau b\n",
        "        if f(a) * f(c) < 0:  \n",
        "            b = c\n",
        "        else:\n",
        "            a = c\n",
        "        \n",
        "        step = step + 1 #iterasi bertambah satu \n",
        "        condition = abs(f(c)) > e #mengecek apakah f(c) lebih besar dari epsilon\n",
        "\n",
        "    print('\\nRequired Root is : %0.8f' % c) #menampilkan hasil akar terakhir \n",
        "\n",
        "#menginput data\n",
        "print('\\nNo 1A Metode Bagi Dua')\n",
        "a = input('First Guess: ')\n",
        "b = input('Second Guess: ')\n",
        "e = input('Toleransi Error: ')\n",
        "\n",
        "#mengkonversi input menjadi float \n",
        "a = float(a)\n",
        "b = float(b)\n",
        "e = float(e)\n",
        "\n",
        "#melakukan pengecekan apakah interval nilai yang dipilih benar atau tidak\n",
        "if f(a) * f(b) > 0.0: \n",
        "    print('Coba dengan perkiraan value yang lain!')\n",
        "else:\n",
        "    bagidua(a,b,e)\n",
        "\n",
        "\n",
        "\n",
        "#No 2A\n",
        "#Metode Bagi Dua\n",
        "\n",
        "#memanggil library\n",
        "from cmath import e \n",
        "from tkinter import E\n",
        "\n",
        "#mendefinisikan fungsi f(x)\n",
        "def f(x): \n",
        "    return x**3-2*x+1 \n",
        "\n",
        "#definisikan fungsi untuk metode bagi dua\n",
        "def bagidua(a,b,e): \n",
        "    step = 5 # mendeklarasikan variabel untuk menyimpan hasil putaran dengan jumlah=5\n",
        "\n",
        "    #condition = True \n",
        "    while step != 0 :\n",
        "        c = (a + b)/2 #rumus untuk mencari titik tengah dari interval [a,b]\n",
        "        print('Iterasi ke-%d, c = %0.6f dan f(c) = %0.6f' % (step, c, f(c))) #ketika syarat perulangan dipenuhi, maka cetak iterasi ke- secara berulang\n",
        "        #percabangan untuk menentukan nilai c akan menggantikan a atau b\n",
        "        if f(a) * f(c) < 0:  \n",
        "            b = c\n",
        "        else:\n",
        "            a = c\n",
        "        \n",
        "        step = step - 1 #iterasi bertambah satu \n",
        "        condition = abs(f(c)) > e\n",
        "\n",
        "    print('\\nRequired Root is : %0.8f' % c) #menampilkan hasil akar terakhir \n",
        "\n",
        "#menginput data\n",
        "print('\\n\\nNo 2A Metode Bagi Dua')\n",
        "a = input('First Guess: ')\n",
        "b = input('Second Guess: ')\n",
        "e = input('Toleransi Error: ')\n",
        "\n",
        "#mengkonversi inputan menjadi tipe data float \n",
        "a = float(a)\n",
        "b = float(b)\n",
        "e = float(e)\n",
        "\n",
        "\n",
        "#melakukan pengecekan apakah interval nilai yang dipilih sudah benar atau tidak\n",
        "if f(a) * f(b) > 0.0:\n",
        "    print('Coba dengan perkiraan value yang lain!')\n",
        "else:\n",
        "    bagidua(a,b,e)\n",
        "\n",
        "\n",
        "\n",
        "#No 1B & 2B\n",
        "#Metode Newton Raphson \n",
        "\n",
        "#mendefinisikan fungsi f(x)\n",
        "def f(x): \n",
        "    return x**3 - 2*x + 1\n",
        "#mendefinisikan turunan fungsi f(x)\n",
        "def g(x): \n",
        "    return 3*x**2 - 2\n",
        "\n",
        "#mendefinisikan fungsi untuk metode Newton Raphson\n",
        "def newtonRaphson(x0,e,N):\n",
        "    step = 1 #mendeklarasikan variabel untuk menyimpan hasil putaran\n",
        "    flag = 1\n",
        "    condition = True\n",
        "    while condition:\n",
        "        if g(x0) == 0.0: #f'(x) tidak boleh = 0 karena tidak akan bisa melakukan tebakan akar\n",
        "            print('Turunan tidak boleh = 0')\n",
        "            break\n",
        "        \n",
        "        x1 = x0 - f(x0)/g(x0) #teorema Taylor \n",
        "        print('Iterasi ke-%d, x1 = %0.6f dan f(x1) = %0.6f' % (step, x1, f(x1))) #mencetak iterasi secara berulang saat syarat terpenuhi\n",
        "        x0 = x1 #x0 menjadi x1\n",
        "        step = step + 1 #step bertambah 1 \n",
        "        \n",
        "        if step > N:\n",
        "            flag = 0\n",
        "            break\n",
        "        \n",
        "        condition = abs(f(x1)) > e\n",
        "    \n",
        "    if flag==1:\n",
        "        print('\\nRequired root is: %0.8f' % x1)\n",
        "    else:\n",
        "        print('\\nNot Convergent.')\n",
        "\n",
        "\n",
        "#menginput data\n",
        "print('\\n\\nNo 1B dan 2B Metode Newton Raphson')\n",
        "x0 = input('Masukan Guess: ')\n",
        "e = input('Toleransi Error: ')\n",
        "N = input('Maximum Iterasi: ')\n",
        "\n",
        "#mengkonversi input ke float dan/atau int \n",
        "x0 = float(x0)\n",
        "e = float(e)\n",
        "N = int(N)\n",
        "\n",
        "newtonRaphson(x0,e,N) #melakukan perintah newtonRaphson \n",
        "\n",
        "\n",
        "#Jawaban No 2\n",
        "\n",
        "#2a\n",
        "#iterasi dimulai dari iterasi ke-0 menurut buku pa rinaldi munir\n",
        "import numpy as np #panggil library\n",
        "def my_newton(f, df, x0,iterasi):\n",
        "#df turunan fungsi f\n",
        "#x0 adalah starting point\n",
        "  if iterasi == 3:\n",
        "    return x0\n",
        "  else:\n",
        "    iterasi = iterasi + 1\n",
        "    return my_newton(f, df, x0 - f(x0)/df(x0),iterasi)\n",
        "f = lambda x: x**3 - 2*x + 1\n",
        "f_prime = lambda x: (3*x**2)-2\n",
        "#dugaan pertama -1.7 dan galatnya 0.00005\n",
        "estimate = my_newton(f, f_prime, -1.7,0) #Jika x0 adalah -1.7 dan galat 0.0001\n",
        "print(\"\\n\\nestimate =\", estimate)\n",
        "\n",
        "#2b\n",
        "import numpy as np #panggil library\n",
        "from math import e\n",
        "def my_newton(f, df, x0,iterasi):\n",
        "#df turunan fungsi f\n",
        "#x0 adalah starting point\n",
        "  if iterasi == 3:\n",
        "    return x0\n",
        "  else:\n",
        "    iterasi = iterasi + 1\n",
        "    return my_newton(f, df, x0 - f(x0)/df(x0),iterasi)\n",
        "\n",
        "\n",
        "f = lambda x: e**x - x\n",
        "f_prime = lambda x: e **x - 1\n",
        "#tidak akan bisa ketemu karena turunan fungsi e^x tetap e^x\n",
        "estimate = my_newton(f, f_prime, -1.7, 0)\n",
        "print(\"\\n\\nestimate =\", estimate)"
      ],
      "metadata": {
        "id": "MjocESJra-b5",
        "colab": {
          "base_uri": "https://localhost:8080/"
        },
        "outputId": "1679fabe-6acb-4842-d319-41bc338e8d97"
      },
      "execution_count": 2,
      "outputs": [
        {
          "output_type": "stream",
          "name": "stdout",
          "text": [
            "\n",
            "No 1A Metode Bagi Dua\n",
            "First Guess: 0.5\n",
            "Second Guess: 1\n",
            "Toleransi Error: 0.00001\n",
            "Iterasi ke-1, c = 0.750000 dan f(c) = -0.078125\n",
            "Iterasi ke-2, c = 0.625000 dan f(c) = -0.005859\n",
            "Iterasi ke-3, c = 0.562500 dan f(c) = 0.052979\n",
            "Iterasi ke-4, c = 0.593750 dan f(c) = 0.021820\n",
            "Iterasi ke-5, c = 0.609375 dan f(c) = 0.007534\n",
            "Iterasi ke-6, c = 0.617188 dan f(c) = 0.000724\n",
            "Iterasi ke-7, c = 0.621094 dan f(c) = -0.002596\n",
            "Iterasi ke-8, c = 0.619141 dan f(c) = -0.000943\n",
            "Iterasi ke-9, c = 0.618164 dan f(c) = -0.000111\n",
            "Iterasi ke-10, c = 0.617676 dan f(c) = 0.000306\n",
            "Iterasi ke-11, c = 0.617920 dan f(c) = 0.000097\n",
            "Iterasi ke-12, c = 0.618042 dan f(c) = -0.000007\n",
            "\n",
            "Required Root is : 0.61804199\n",
            "\n",
            "\n",
            "No 2A Metode Bagi Dua\n",
            "First Guess: 0.5\n",
            "Second Guess: 1\n",
            "Toleransi Error: 0.00001\n",
            "Iterasi ke-5, c = 0.750000 dan f(c) = -0.078125\n",
            "Iterasi ke-4, c = 0.625000 dan f(c) = -0.005859\n",
            "Iterasi ke-3, c = 0.562500 dan f(c) = 0.052979\n",
            "Iterasi ke-2, c = 0.593750 dan f(c) = 0.021820\n",
            "Iterasi ke-1, c = 0.609375 dan f(c) = 0.007534\n",
            "\n",
            "Required Root is : 0.60937500\n",
            "\n",
            "\n",
            "No 1B dan 2B Metode Newton Raphson\n",
            "Masukan Guess: 0.5\n",
            "Toleransi Error: 0.00001\n",
            "Maximum Iterasi: 6\n",
            "Iterasi ke-1, x1 = 0.600000 dan f(x1) = 0.016000\n",
            "Iterasi ke-2, x1 = 0.617391 dan f(x1) = 0.000550\n",
            "Iterasi ke-3, x1 = 0.618033 dan f(x1) = 0.000001\n",
            "\n",
            "Required root is: 0.61803310\n",
            "\n",
            "\n",
            "estimate = -1.6180339891173305\n",
            "\n",
            "\n",
            "estimate = 1.340217858946818\n"
          ]
        }
      ]
    }
  ]
}