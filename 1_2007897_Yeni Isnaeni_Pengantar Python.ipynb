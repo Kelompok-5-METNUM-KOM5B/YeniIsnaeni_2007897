{
  "nbformat": 4,
  "nbformat_minor": 0,
  "metadata": {
    "colab": {
      "provenance": []
    },
    "kernelspec": {
      "name": "python3",
      "display_name": "Python 3"
    },
    "language_info": {
      "name": "python"
    }
  },
  "cells": [
    {
      "cell_type": "markdown",
      "source": [
        "# **Pengantar**\n",
        "\n",
        "Python is an object-oriented language that was developed in late 1980s as a scripting language (the name is derived from the British television show Monty Python’s Flying Circus).\n",
        "Python has other advantages over mainstream languages that are important in a learning environment:\n",
        "*   Python is open-source software, which means that it is free; it is included in most Linux distributions.\n",
        "*   Python is available for all major operating systems (Linux, Unix, Windows, Mac OS etc.). A program written on one system runs without modiﬁcation on all systems.\n",
        "*   Python is easier to learn and produces more readable code than other languages.\n",
        "*   Python and its extensions are easy to install.\n",
        "\n",
        "\n",
        "\n",
        "\n"
      ],
      "metadata": {
        "id": "RHAbEQXRcpYk"
      }
    },
    {
      "cell_type": "markdown",
      "source": [
        "#**Eksplorasi Code Program berikut!**\n",
        "Berikan komentar (#komentar) pada bagian-bagian yang menurut anda penting!"
      ],
      "metadata": {
        "id": "UjpvXfpHimAW"
      }
    },
    {
      "cell_type": "markdown",
      "source": [
        "**Variabel**"
      ],
      "metadata": {
        "id": "nBYpWT0ddRg5"
      }
    },
    {
      "cell_type": "code",
      "execution_count": 1,
      "metadata": {
        "colab": {
          "base_uri": "https://localhost:8080/"
        },
        "id": "syE7pWhXcST4",
        "outputId": "4d20208f-dd3c-4ae4-f14a-d0d820646080"
      },
      "outputs": [
        {
          "output_type": "stream",
          "name": "stdout",
          "text": [
            "2\n"
          ]
        }
      ],
      "source": [
        "b=2 #Deklarasikan variabel dan nilainya\n",
        "print(b) #Print nilai variabel b"
      ]
    },
    {
      "cell_type": "code",
      "source": [
        "b=b*2.0 \n",
        "print(b)"
      ],
      "metadata": {
        "colab": {
          "base_uri": "https://localhost:8080/"
        },
        "id": "t2rN6MaxeD9D",
        "outputId": "1f719542-37de-4c59-a56e-5e89fb8ebd03"
      },
      "execution_count": null,
      "outputs": [
        {
          "output_type": "stream",
          "name": "stdout",
          "text": [
            "4.0\n"
          ]
        }
      ]
    },
    {
      "cell_type": "markdown",
      "source": [
        "**String**"
      ],
      "metadata": {
        "id": "0rxckwD4cndk"
      }
    },
    {
      "cell_type": "code",
      "source": [
        "string1 = 'Press return to exit' #Deklarasikan variabel dengan tipe data string\n",
        "string2 = 'the program' #Deklarasikan variabel dengan tipe data string\n",
        "print(string1) #Print hasil string1\n",
        "print(string2) #Print hasil string2\n",
        "print(string1 ,'',string2) #print hasil program string1 dan string2\n",
        "print(string1[0:12]) #print hasil string1 sampai 12 char"
      ],
      "metadata": {
        "colab": {
          "base_uri": "https://localhost:8080/"
        },
        "id": "nF7A6avWealH",
        "outputId": "8028fd0e-796e-4160-9f32-635694e81a46"
      },
      "execution_count": null,
      "outputs": [
        {
          "output_type": "stream",
          "name": "stdout",
          "text": [
            "Press return to exit\n",
            "the program\n",
            "Press return to exit  the program\n",
            "Press return\n"
          ]
        }
      ]
    },
    {
      "cell_type": "markdown",
      "source": [
        "**Tuples**"
      ],
      "metadata": {
        "id": "1OKFGMiZf51N"
      }
    },
    {
      "cell_type": "code",
      "source": [
        "rec = ('Junaeti','Enjun',(12,20,1985)) #Deklarasikan variabel untuk menampung sekumpulan data\n",
        "lastName, firstName, birthdate = rec #Deklarasikan variabel \n",
        "print(rec[0]) #menampilkan hasil \n",
        "print(lastName) #menampilkan hasil \n",
        "nama = rec[1] + ' ' + rec[0] #Deklarasikan variabel \n",
        "print(nama) #menampilkan hasil \n",
        "birtYear = birthdate[2] #membuat variabel tampungan\n",
        "print(birthdate) #menampilkan hasil"
      ],
      "metadata": {
        "colab": {
          "base_uri": "https://localhost:8080/"
        },
        "id": "cxMAOoEXf_3h",
        "outputId": "1caebed5-e924-480b-dfeb-fb0249653d9c"
      },
      "execution_count": null,
      "outputs": [
        {
          "output_type": "stream",
          "name": "stdout",
          "text": [
            "Junaeti\n",
            "Junaeti\n",
            "Enjun Junaeti\n",
            "(12, 20, 1985)\n"
          ]
        }
      ]
    },
    {
      "cell_type": "markdown",
      "source": [
        "**List**"
      ],
      "metadata": {
        "id": "Ee1Jmw6LjJRh"
      }
    },
    {
      "cell_type": "code",
      "source": [
        "a = [1.0, 2.0, 3.0] #deklarasikan variabel\n",
        "a.append(4.0) #menambahkan nilai array pada urutan terakhir\n",
        "print(a) #menampilkan hasil\n",
        "a.insert(0,0.0) #menyisipkan data pada urutan pertama\n",
        "print(a) #menampilkan hasil\n",
        "print (len(a)) #menampilkan panjang array a\n",
        "a[2:4] = [1.0, 1.0]\n",
        "print(a)  "
      ],
      "metadata": {
        "colab": {
          "base_uri": "https://localhost:8080/"
        },
        "id": "d9N72NGijMN4",
        "outputId": "f7c9817b-6c73-4af6-e009-c1638be2c142"
      },
      "execution_count": null,
      "outputs": [
        {
          "output_type": "stream",
          "name": "stdout",
          "text": [
            "[1.0, 2.0, 3.0, 4.0]\n",
            "[0.0, 1.0, 2.0, 3.0, 4.0]\n",
            "5\n",
            "[0.0, 1.0, 1.0, 1.0, 4.0]\n"
          ]
        }
      ]
    },
    {
      "cell_type": "code",
      "source": [
        "a = [1.0, 2.0, 3.0]\n",
        "b=a\n",
        "b[0] = 5.0\n",
        "print (a)\n"
      ],
      "metadata": {
        "colab": {
          "base_uri": "https://localhost:8080/"
        },
        "id": "ka4yWSAqj_qL",
        "outputId": "9befdcab-00de-4b77-b67d-6c052dcd168e"
      },
      "execution_count": null,
      "outputs": [
        {
          "output_type": "stream",
          "name": "stdout",
          "text": [
            "[5.0, 2.0, 3.0]\n"
          ]
        }
      ]
    },
    {
      "cell_type": "code",
      "source": [
        "a = [5.0, 2.0, 3.0]\n",
        "c = a[:] \n",
        "c[0]=1.0\n",
        "print(a)"
      ],
      "metadata": {
        "colab": {
          "base_uri": "https://localhost:8080/"
        },
        "id": "PXWVRhjOkRjB",
        "outputId": "e6462db9-3230-4bf5-988e-a9753ca941ca"
      },
      "execution_count": null,
      "outputs": [
        {
          "output_type": "stream",
          "name": "stdout",
          "text": [
            "[5.0, 2.0, 3.0]\n"
          ]
        }
      ]
    },
    {
      "cell_type": "markdown",
      "source": [
        "**Matriks**"
      ],
      "metadata": {
        "id": "Dx6L9B-Cklpn"
      }
    },
    {
      "cell_type": "code",
      "source": [
        "A =[[1, 2, 3], \\ #mendeklarasikan matriks\n",
        "[4, 5, 6], \\\n",
        "[7, 8, 9]]\n",
        "print(A[1]) #menampilkan hasil\n",
        "print(A[1][2])"
      ],
      "metadata": {
        "colab": {
          "base_uri": "https://localhost:8080/"
        },
        "id": "W7heORidkzd9",
        "outputId": "d83981b9-18c9-4a2b-aabb-1f960bedfdab"
      },
      "execution_count": null,
      "outputs": [
        {
          "output_type": "stream",
          "name": "stdout",
          "text": [
            "[4, 5, 6]\n",
            "6\n"
          ]
        }
      ]
    },
    {
      "cell_type": "markdown",
      "source": [
        "**Operasi Aritmatika**"
      ],
      "metadata": {
        "id": "VEzTCiLNlATT"
      }
    },
    {
      "cell_type": "code",
      "source": [
        "s = 'Hello' #mendeklarasikan variabel\n",
        "t = 'to you' #mendeklarasikan variabel\n",
        "a = [1, 2, 3] #mendeklarasikan variabel\n",
        "print (3*s) #menampilkan hasil\n",
        "print (3*a) \n",
        "print (a + [4, 5]) \n",
        "print(s+t) \n",
        "print(s+' '+t)"
      ],
      "metadata": {
        "colab": {
          "base_uri": "https://localhost:8080/"
        },
        "id": "W1buzrJylEtw",
        "outputId": "e343c2d6-b16a-449f-b831-bfa6ea7445ab"
      },
      "execution_count": null,
      "outputs": [
        {
          "output_type": "stream",
          "name": "stdout",
          "text": [
            "HelloHelloHello\n",
            "[1, 2, 3, 1, 2, 3, 1, 2, 3]\n",
            "[1, 2, 3, 4, 5]\n",
            "Helloto you\n",
            "Hello to you\n"
          ]
        }
      ]
    },
    {
      "cell_type": "code",
      "source": [
        "a=2\n",
        "b=3\n",
        "a+=b\n",
        "print(a)\n",
        "a-=b\n",
        "print(a)\n",
        "a*=b\n",
        "print(a)\n",
        "a/=b\n",
        "print(a)\n",
        "a**=b\n",
        "print(a)\n",
        "a%=b\n",
        "print(a)"
      ],
      "metadata": {
        "colab": {
          "base_uri": "https://localhost:8080/"
        },
        "id": "YYntmfiWmh77",
        "outputId": "6db92d09-315f-4910-a8ea-6570cf2f3113"
      },
      "execution_count": null,
      "outputs": [
        {
          "output_type": "stream",
          "name": "stdout",
          "text": [
            "5\n",
            "2\n",
            "6\n",
            "2.0\n",
            "8.0\n",
            "2.0\n"
          ]
        }
      ]
    },
    {
      "cell_type": "markdown",
      "source": [
        "**Operator Perbandingan**"
      ],
      "metadata": {
        "id": "JFVcYNqLnpAn"
      }
    },
    {
      "cell_type": "code",
      "source": [
        "a = 2 #mendeklarasikan variabel\n",
        "b = 1.99 \n",
        "c = '2'\n",
        "print(a>b) #menampilkan hasil\n",
        "print (a == c)\n",
        "print (a > b) and (a != c)\n",
        "print (a > b) or (a == b)\n"
      ],
      "metadata": {
        "colab": {
          "base_uri": "https://localhost:8080/"
        },
        "id": "EdLv17nOnkvN",
        "outputId": "1cebda09-71f4-47c4-b40f-2ea3a5e76b31"
      },
      "execution_count": null,
      "outputs": [
        {
          "output_type": "stream",
          "name": "stdout",
          "text": [
            "True\n",
            "False\n",
            "True\n",
            "True\n"
          ]
        },
        {
          "output_type": "execute_result",
          "data": {
            "text/plain": [
              "False"
            ]
          },
          "metadata": {},
          "execution_count": 46
        }
      ]
    },
    {
      "cell_type": "markdown",
      "source": [
        "**Percabangan**"
      ],
      "metadata": {
        "id": "eDXR6TYLoHtN"
      }
    },
    {
      "cell_type": "code",
      "source": [
        "def sign_of_a(a): #mendefinikan fungsi\n",
        "  if a < 0.0: #melakukan percabangan\n",
        "    sign = 'negative'\n",
        "  elif a > 0.0:\n",
        "    sign = 'positive'\n",
        "  else:\n",
        "    sign = 'zero'\n",
        "  return sign\n",
        "a = 1.5\n",
        "print ('a is ' + sign_of_a(a)) #menampilkan hasil"
      ],
      "metadata": {
        "colab": {
          "base_uri": "https://localhost:8080/"
        },
        "id": "m90Rv9E6oKN1",
        "outputId": "a10a8218-efe9-4f4b-c59f-5d6755b334dd"
      },
      "execution_count": null,
      "outputs": [
        {
          "output_type": "stream",
          "name": "stdout",
          "text": [
            "a is positive\n"
          ]
        }
      ]
    },
    {
      "cell_type": "markdown",
      "source": [
        "**Loops**"
      ],
      "metadata": {
        "id": "0qOVC0wJqFbW"
      }
    },
    {
      "cell_type": "code",
      "source": [
        "nMax = 5\n",
        "n=1\n",
        "a = [] # membuat list kosong\n",
        "while n < nMax:\n",
        "  a.append(1.0/n) #menambahkan elemen dalam list\n",
        "  n=n+1\n",
        "print (a)"
      ],
      "metadata": {
        "colab": {
          "base_uri": "https://localhost:8080/"
        },
        "id": "nvlN4WbSqH1c",
        "outputId": "0dfe4718-77e8-4c94-92bc-410b33d20557"
      },
      "execution_count": null,
      "outputs": [
        {
          "output_type": "stream",
          "name": "stdout",
          "text": [
            "[1.0, 0.5, 0.3333333333333333, 0.25]\n"
          ]
        }
      ]
    },
    {
      "cell_type": "code",
      "source": [
        "nMax = 5\n",
        "a=[]\n",
        "for n in range(1,nMax):\n",
        "  a.append(1.0/n)\n",
        "print (a)"
      ],
      "metadata": {
        "colab": {
          "base_uri": "https://localhost:8080/"
        },
        "id": "Ag0YFggLqdnD",
        "outputId": "56394391-ddaa-4ea1-8055-17bc586dbc44"
      },
      "execution_count": null,
      "outputs": [
        {
          "output_type": "stream",
          "name": "stdout",
          "text": [
            "[1.0, 0.5, 0.3333333333333333, 0.25]\n"
          ]
        }
      ]
    },
    {
      "cell_type": "code",
      "source": [
        "list = ['Jack', 'Jill', 'Tim', 'Dave']\n",
        "name = input('Type a name: ') # Python input prompt\n",
        "for i in range(len(list)):\n",
        "  if list[i] == name:\n",
        "    print (name,'is number',i + 1,'on the list')\n",
        "    break\n",
        "else:\n",
        "  print (name,'is not on the list')"
      ],
      "metadata": {
        "colab": {
          "base_uri": "https://localhost:8080/"
        },
        "id": "q3kiYQLlqph7",
        "outputId": "630e6642-8cf6-49e1-98ed-d19c0b91b65f"
      },
      "execution_count": null,
      "outputs": [
        {
          "output_type": "stream",
          "name": "stdout",
          "text": [
            "Type a name: Jee\n",
            "Jee is not on the list\n"
          ]
        }
      ]
    },
    {
      "cell_type": "markdown",
      "source": [
        "**Fungsi**"
      ],
      "metadata": {
        "id": "03hFWDuXsElj"
      }
    },
    {
      "cell_type": "code",
      "source": [
        "def squares(a): #mendefinikan fungsi\n",
        "  for i in range(len(a)): #melakukan perulangan\n",
        "    a[i]**=2\n",
        "a = [1, 2, 3, 4]\n",
        "squares(a)\n",
        "print (a) "
      ],
      "metadata": {
        "colab": {
          "base_uri": "https://localhost:8080/"
        },
        "id": "rFmaYbBqsIZZ",
        "outputId": "0a9edc82-cac8-4427-8063-20550d5d2d71"
      },
      "execution_count": null,
      "outputs": [
        {
          "output_type": "stream",
          "name": "stdout",
          "text": [
            "[1, 4, 9, 16]\n"
          ]
        }
      ]
    },
    {
      "cell_type": "markdown",
      "source": [
        "**math Module**"
      ],
      "metadata": {
        "id": "JiFp40HkteWf"
      }
    },
    {
      "cell_type": "code",
      "source": [
        "from math import log,sin #import library\n",
        "print(log(10))\n",
        "print(sin(0.5))"
      ],
      "metadata": {
        "colab": {
          "base_uri": "https://localhost:8080/"
        },
        "id": "jBqFXe2fth3w",
        "outputId": "f1ee1e29-2062-4011-c757-d1a5fa996ece"
      },
      "execution_count": null,
      "outputs": [
        {
          "output_type": "stream",
          "name": "stdout",
          "text": [
            "2.302585092994046\n",
            "0.479425538604203\n"
          ]
        }
      ]
    },
    {
      "cell_type": "code",
      "source": [
        "import math\n",
        "print(math.log(10))"
      ],
      "metadata": {
        "colab": {
          "base_uri": "https://localhost:8080/"
        },
        "id": "nRN7ddWJt8yJ",
        "outputId": "eba68979-fbf0-4b81-b9d0-09e33e6dad54"
      },
      "execution_count": null,
      "outputs": [
        {
          "output_type": "stream",
          "name": "stdout",
          "text": [
            "2.302585092994046\n"
          ]
        }
      ]
    },
    {
      "cell_type": "markdown",
      "source": [
        "**Array**"
      ],
      "metadata": {
        "id": "5ARoC8tBuaev"
      }
    },
    {
      "cell_type": "code",
      "source": [
        "import numpy as np #import library\n",
        "b = [1.0, 4.0, 2.0]\n",
        "print(np.dot(b,b))\n",
        "a = [[ 4.0, -2.0, 1.0], \\\n",
        "[-2.0, 4.0, -2.0], \\\n",
        "[ 1.0, -2.0, 3.0]]\n",
        "print(np.dot(a,b))"
      ],
      "metadata": {
        "colab": {
          "base_uri": "https://localhost:8080/"
        },
        "id": "HJQ_2lXQuX80",
        "outputId": "44d2644f-756a-45b9-ff65-d68546100bbe"
      },
      "execution_count": null,
      "outputs": [
        {
          "output_type": "stream",
          "name": "stdout",
          "text": [
            "21.0\n",
            "[-2. 10. -1.]\n"
          ]
        }
      ]
    },
    {
      "cell_type": "markdown",
      "source": [
        "# **Latihan**"
      ],
      "metadata": {
        "id": "mEo7xfN3z2SU"
      }
    },
    {
      "cell_type": "markdown",
      "source": [
        "**Eksplorasi kode program berikut dengan memberikan keterangan pada setiap tahapannya!**"
      ],
      "metadata": {
        "id": "CUDsVIYXFZwl"
      }
    },
    {
      "cell_type": "code",
      "source": [
        "import numpy as np #import library numpy\n",
        "def my_bisection(g, a, b, e): #mendefinisikan fungsi\n",
        "  if np.sign(g(a)) == np.sign(g(b)): #mengecek kondisi\n",
        "    raise Exception('Tidak ada akar pada interval a dan b') \n",
        "  m = (a + b)/2\n",
        "  if np.abs(g(m)) < e: #mengecek kondisi\n",
        "    return m #menampilkan hasil\n",
        "  elif np.sign(g(a)) == np.sign(g(m)): #mengecek kondisi\n",
        "    return my_bisection(g, m, b, e) #menampilkan hasil\n",
        "  elif np.sign(g(b)) == np.sign(g(m)): #mengecek kondisi\n",
        "    return my_bisection(g, a, m, e) #menampilkan hasil"
      ],
      "metadata": {
        "id": "Zg8P9rtXwQxA"
      },
      "execution_count": null,
      "outputs": []
    },
    {
      "cell_type": "markdown",
      "source": [
        "**Buatlah Kode Program berikut ini!**"
      ],
      "metadata": {
        "id": "Et2Qwr-Rz_hs"
      }
    },
    {
      "cell_type": "code",
      "source": [
        "from re import X\n",
        "# Definisikan suatu matriks A berordo 2x3 dengan entri-entri yang ditentukan sendiri\n",
        "A = [[4,5,6], [7,8,9]]\n",
        "\n",
        "# Definisikan suatu matriks B berordo 3x3 dengan entri-entri yang ditentukan sendiri\n",
        "B = [[4,5,6], [7,8,9], [10,11,12]]\n",
        "\n",
        "# Definisikan suatu matriks C berordo 3x2 dengan entri-entri yang ditentukan sendiri\n",
        "C = [[3,4], [5,6], [7,8]]\n",
        "\n",
        "# Carilah perkalian matriks A dan B kemudian print hasilnya\n",
        "import numpy as np\n",
        "x = np.dot(A,B)\n",
        "print(x)\n",
        "\n",
        "# Carilah perkalian matriks B dan C kemudian print hasilnya\n",
        "y = np.dot(B,C)\n",
        "print(y)\n",
        "\n",
        "# Carilah perkalian matriks C dan A kemudian print hasilnya\n",
        "y = np.dot(C,A)\n",
        "print(y)"
      ],
      "metadata": {
        "id": "ySNfmge_0NMo",
        "colab": {
          "base_uri": "https://localhost:8080/"
        },
        "outputId": "d6ff05be-4768-49f8-d255-14d60bc3215e"
      },
      "execution_count": 2,
      "outputs": [
        {
          "output_type": "stream",
          "name": "stdout",
          "text": [
            "[[111 126 141]\n",
            " [174 198 222]]\n",
            "[[ 79  94]\n",
            " [124 148]\n",
            " [169 202]]\n",
            "[[ 40  47  54]\n",
            " [ 62  73  84]\n",
            " [ 84  99 114]]\n"
          ]
        }
      ]
    },
    {
      "cell_type": "code",
      "source": [
        "#Yeni Isnaeni 2007897 Pendidikan Ilmu Komputer B\n",
        "#Mata Kuliah : Metode Numerik\n",
        "\n",
        "import numpy as np\n",
        "\n",
        "#Menampilkan Matriks A dan Matriks B\n",
        "string1 = 'Matriks A'\n",
        "A = [[1, 2, 0], \\\n",
        "     [2, 2, 1], \\\n",
        "     [0, 3, 3]]\n",
        "print(string1)\n",
        "print(A)\n",
        "\n",
        "string2 = '\\nMatriks B'\n",
        "B = [[-1, 5], \\\n",
        "     [ 3, 1], \\\n",
        "     [ 0, 1]]\n",
        "print(string2)\n",
        "print(B)\n",
        "\n",
        "transposeA = np.transpose(A)\n",
        "transposeB = np.transpose(B)\n",
        "\n",
        "#Menjumlahkan Matriks A dan B\n",
        "string3 = '\\nPenjumlahan Matriks A dan B'\n",
        "print(string3)\n",
        "if len(A) == len(B) :\n",
        "  if len(transposeA) == len(transposeB) :\n",
        "    for x in range(0, len(A)):\n",
        "      for y in range(0, len(B[0])):\n",
        "        print (A[x][y] + B[x][y], end=' '),\n",
        "      print (\" \")\n",
        "  else:\n",
        "    print('Matriks tidak dapat dijumlahkan karena mempunyai ordo yang berbeda')\n",
        "else:\n",
        "    print('Matriks tidak dapat dijumlahkan karena mempunyai ordo yang berbeda')\n",
        "\n",
        "#Mengalikan Matriks A dan B\n",
        "string4 = '\\nPerkalian Matriks A dan B'\n",
        "print(string4)\n",
        "print(np.dot(A,B))\n"
      ],
      "metadata": {
        "colab": {
          "base_uri": "https://localhost:8080/"
        },
        "id": "ZHQmeJ9IYMB7",
        "outputId": "3bb965e8-a753-4185-9e11-4779032f4a5d"
      },
      "execution_count": 3,
      "outputs": [
        {
          "output_type": "stream",
          "name": "stdout",
          "text": [
            "Matriks A\n",
            "[[1, 2, 0], [2, 2, 1], [0, 3, 3]]\n",
            "\n",
            "Matriks B\n",
            "[[-1, 5], [3, 1], [0, 1]]\n",
            "\n",
            "Penjumlahan Matriks A dan B\n",
            "Matriks tidak dapat dijumlahkan karena mempunyai ordo yang berbeda\n",
            "\n",
            "Perkalian Matriks A dan B\n",
            "[[ 5  7]\n",
            " [ 4 13]\n",
            " [ 9  6]]\n"
          ]
        }
      ]
    }
  ]
}