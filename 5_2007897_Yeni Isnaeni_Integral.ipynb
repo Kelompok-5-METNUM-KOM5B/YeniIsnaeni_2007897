{
  "nbformat": 4,
  "nbformat_minor": 0,
  "metadata": {
    "colab": {
      "provenance": []
    },
    "kernelspec": {
      "name": "python3",
      "display_name": "Python 3"
    },
    "language_info": {
      "name": "python"
    }
  },
  "cells": [
    {
      "cell_type": "markdown",
      "source": [
        "# **INTEGRAL**\n",
        "2007897_Yeni Isnaeni_Pendidikan Ilmu Komputer B"
      ],
      "metadata": {
        "id": "aP8ZG_Xoj6tz"
      }
    },
    {
      "cell_type": "markdown",
      "source": [
        "Metode Trapesium/Trapezoidal"
      ],
      "metadata": {
        "id": "lnKtXHYhkB3N"
      }
    },
    {
      "cell_type": "code",
      "source": [
        "import numpy as np #import library numpy\n",
        "import matplotlib.pyplot as plt #import library\n",
        "\n",
        "def f(x): #mendefinikan fungsi\n",
        "  return 2/(5-x**2)\n",
        " \n",
        "\n",
        "#Metode trapesium\n",
        "def trapezoidal(x0,xn,n):\n",
        "  h=(xn-x0)/n  #menghitung delta x \n",
        "  integral=f(x0)+f(xn) #mencari jumlah\n",
        "  for i in range(1,n): #melakukan perulangan \n",
        "    k=x0+i*h\n",
        "    integral=integral+2*f(k)\n",
        "  \n",
        "  #mencari hasil inte1gral\n",
        "  integral=integral*h/2\n",
        "  return integral\n",
        "\n",
        "#Menginput data\n",
        "lower_limit = float(input(\"Masukan batas bawah : \"))\n",
        "upper_limit = float(input(\"Masukan batas atas : \"))\n",
        "sub_interval = int(input(\"Masukan sub-interval: \"))\n",
        "\n",
        "#menampilkan hasil\n",
        "result = trapezoidal(lower_limit, upper_limit, sub_interval)\n",
        "print(\"Hasil Integral dengan Trapezoidal: %0.3f\" % (result) )\n",
        "\n",
        "#Menampilkan grafik\n",
        "x=np.linspace(lower_limit,upper_limit,sub_interval+1)\n",
        "xp=np.linspace(lower_limit,upper_limit,1000)\n",
        "plt.plot(xp,f(xp))\n",
        "for i in range(sub_interval+1):\n",
        "  plt.bar(x[i], f(x[i]), width=0.0001, color='gray', edgecolor='blue')\n",
        "\n",
        "plt.fill_between(x,f(x), color='green')\n",
        "plt.show()"
      ],
      "metadata": {
        "colab": {
          "base_uri": "https://localhost:8080/",
          "height": 340
        },
        "id": "ok7A4jiIkHpt",
        "outputId": "84b5dee8-dbc3-48d5-ee0a-4f2ba9743ece"
      },
      "execution_count": null,
      "outputs": [
        {
          "output_type": "stream",
          "name": "stdout",
          "text": [
            "Masukan batas bawah : 3\n",
            "Masukan batas atas : 8\n",
            "Masukan sub-interval: 7\n",
            "Hasil Integral dengan Trapezoidal: -0.633\n"
          ]
        },
        {
          "output_type": "display_data",
          "data": {
            "text/plain": [
              "<Figure size 432x288 with 1 Axes>"
            ],
            "image/png": "[encoded data removed]"
          },
          "metadata": {
            "needs_background": "light"
          }
        }
      ]
    },
    {
      "cell_type": "markdown",
      "source": [
        "Metode Simpson's 1/3"
      ],
      "metadata": {
        "id": "ZWHWjtAEkORs"
      }
    },
    {
      "cell_type": "code",
      "source": [
        "def f(x): #mendefiniskan fungsi\n",
        "  return 1/(1+x**2)\n",
        "\n",
        "def simpson13(x0,xn,n): #mendefinisikan fungsi untuk simpson 1/3\n",
        "  h=(xn-x0)/n\n",
        "  integration=f(x0)+f(xn) #menghitung jumlah\n",
        "  for i in range(1,n): #melakukan perulangan\n",
        "    k=x0+i*h\n",
        "    if i%2==0: #mengecek kondisi\n",
        "      integration=integration+2*f(k)\n",
        "    else:\n",
        "      integration=integration+4*f(k)\n",
        " \n",
        "  integration=integration*h/3 #mencari hasil final integral\n",
        "  return integration\n",
        "\n",
        "#menginput data\n",
        "lower_limit = float(input(\"Masukan nilai limit bawah integral: \"))\n",
        "upper_limit = float(input(\"Masukan nilai limit atas integral: \"))\n",
        "sub_interval = int(input(\"Masukan nilai sub-interval: \"))\n",
        "\n",
        "#menampilkan hasil\n",
        "result=simpson13(lower_limit, upper_limit, sub_interval)\n",
        "print(\"Hasil Integral dengan Metode Simpson's 1/3: %0.5f\"%(result))"
      ],
      "metadata": {
        "id": "-4r4GdxYkTzG",
        "colab": {
          "base_uri": "https://localhost:8080/"
        },
        "outputId": "3520e90b-86a1-4d0d-c443-e07d0a0e40f5"
      },
      "execution_count": 4,
      "outputs": [
        {
          "output_type": "stream",
          "name": "stdout",
          "text": [
            "Masukan nilai limit bawah integral: 3\n",
            "Masukan nilai limit atas integral: 8\n",
            "Masukan nilai sub-interval: 7\n",
            "Hasil Integral dengan Metode Simpson's 1/3: 0.19349\n"
          ]
        }
      ]
    },
    {
      "cell_type": "markdown",
      "source": [
        "Metode Simpson's 3/8"
      ],
      "metadata": {
        "id": "dONVovjUkY1d"
      }
    },
    {
      "cell_type": "code",
      "source": [
        "import numpy as np #import library numpy\n",
        "\n",
        "def f(x): #mendefinisikan fungsi\n",
        "  return 1/(1+x**2)\n",
        "\n",
        "def simpson38(x0,xn,n): #mendefinisikan fungsi untuk simpson 3/8\n",
        "  h=(xn-x0)/n\n",
        "  integration=f(x0)+f(xn)\n",
        "  for i in range(1,n): #melakukan perulangan\n",
        "    k=x0+i*h \n",
        "    if i%2 == 0: #mengecek kondisi\n",
        "      integration=integration+2*f(k)\n",
        "    else:\n",
        "      integration=integration+3*f(k)\n",
        "\n",
        "  integration=integration*3*h/8 #mencari hasil integral\n",
        "  return integration\n",
        "\n",
        "#menginput data\n",
        "lower_limit = float(input(\"Masukan nilai limit bawah integral: \"))\n",
        "upper_limit = float(input(\"Masukan nilai limit atas integral: \"))\n",
        "sub_interval = int(input(\"Masukan nilai sub integral: \"))\n",
        "\n",
        "#menampilkan hasil\n",
        "result=simpson38(lower_limit, upper_limit, sub_interval)\n",
        "print(\"Hasil Integral dengan Metode Simpson's 3/8: %0.4f\"%(result))"
      ],
      "metadata": {
        "id": "3Q32ngVekcJV",
        "colab": {
          "base_uri": "https://localhost:8080/"
        },
        "outputId": "c5d1a7fd-1bab-4bac-cbd4-7078583b04c8"
      },
      "execution_count": 6,
      "outputs": [
        {
          "output_type": "stream",
          "name": "stdout",
          "text": [
            "Masukan nilai limit bawah integral: 3\n",
            "Masukan nilai limit atas integral: 8\n",
            "Masukan nilai sub integral: 7\n",
            "Hasil Integral dengan Metode Simpson's 3/8: 0.1837\n"
          ]
        }
      ]
    }
  ]
}