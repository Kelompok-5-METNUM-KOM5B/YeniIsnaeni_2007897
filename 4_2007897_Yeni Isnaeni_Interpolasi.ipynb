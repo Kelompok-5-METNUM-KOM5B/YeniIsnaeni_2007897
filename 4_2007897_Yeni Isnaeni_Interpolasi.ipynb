{
  "nbformat": 4,
  "nbformat_minor": 0,
  "metadata": {
    "colab": {
      "provenance": []
    },
    "kernelspec": {
      "name": "python3",
      "display_name": "Python 3"
    },
    "language_info": {
      "name": "python"
    }
  },
  "cells": [
    {
      "cell_type": "markdown",
      "source": [
        "# **INTERPOLASI**\n",
        "2007897_Yeni Isnaeni_Pendidikan Ilmu Komputer B\n"
      ],
      "metadata": {
        "id": "x4h5bpago2uh"
      }
    },
    {
      "cell_type": "markdown",
      "source": [
        "Lagrange"
      ],
      "metadata": {
        "id": "tloAkMLW1IVv"
      }
    },
    {
      "cell_type": "code",
      "source": [
        "import numpy as np #import library numpy\n",
        "\n",
        "n = int(input('Masukkan jumlah titik data: ')) #mendeklarasikan variabel untuk input titik\n",
        "\n",
        "#membuat matriks n x n\n",
        "x = np.zeros((n)) #koefisien\n",
        "y = np.zeros((n)) #hasil\n",
        "\n",
        "print('Masukkan x dan y: ')\n",
        "for i in range(n): #melakukan perulangan\n",
        "    x[i] = float(input( 'x['+str(i)+']='))\n",
        "    y[i] = float(input( 'y['+str(i)+']='))\n",
        "\n",
        "xp = float(input('Enter interpolation point: ')) #memasukkan titik\n",
        "yp = 0 #Membuat hasil awal (yp) menjadi 0\n",
        "\n",
        "#implementasi lagrange\n",
        "for i in range(n):\n",
        "    p = 1\n",
        "    for j in range(n):\n",
        "        if i != j:\n",
        "            p = p * (xp - x[j])/(x[i] - x[j])\n",
        "    \n",
        "    yp = yp + p * y[i]    \n",
        "\n",
        "print('Interpolated value at %.3f is %.3f.' % (xp, yp)) #menampilkan hasil"
      ],
      "metadata": {
        "id": "zLgjUTSy1KFr",
        "colab": {
          "base_uri": "https://localhost:8080/"
        },
        "outputId": "8d42981c-ab92-4ac5-a726-2b79f5ca8363"
      },
      "execution_count": 1,
      "outputs": [
        {
          "output_type": "stream",
          "name": "stdout",
          "text": [
            "Masukkan jumlah titik data: 2\n",
            "Masukkan x dan y: \n",
            "x[0]=5\n",
            "y[0]=8\n",
            "x[1]=9\n",
            "y[1]=3\n",
            "Enter interpolation point: 4\n",
            "Interpolated value at 4.000 is 9.250.\n"
          ]
        }
      ]
    },
    {
      "cell_type": "markdown",
      "source": [
        "Polinom Newton"
      ],
      "metadata": {
        "id": "HRffwG8j1OSh"
      }
    },
    {
      "cell_type": "code",
      "source": [
        "import numpy as np #import library numpy\n",
        "n = int(input('Masukkan titik: ')) #mendeklarasikan variabel untuk input titik\n",
        "\n",
        "#membuat array nxn\n",
        "x = np.zeros((n))\n",
        "y = np.zeros((n,n))\n",
        "\n",
        "print('Masukkan x dan y: ')\n",
        "for i in range(n): #melakukan perulangan\n",
        "    x[i] = float(input( 'x['+str(i)+']='))\n",
        "    y[i][0] = float(input( 'y['+str(i)+']='))\n",
        "    \n",
        "#membuat tabel\n",
        "for i in range(1,n):\n",
        "    for j in range(0,n-i):\n",
        "        y[j][i] = y[j+1][i-1] - y[j][i-1]\n",
        " \n",
        "print('\\nTABEL\\n'); #mencetak tabel\n",
        "\n",
        "for i in range(0,n): #melakukan perulangan\n",
        "    print('%0.2f' %(x[i]), end='')\n",
        "    for j in range(0, n-i):\n",
        "        print('\\t\\t%0.2f' %(y[i][j]), end='')\n",
        "    print()"
      ],
      "metadata": {
        "id": "U83w2Z1j1Rpe",
        "colab": {
          "base_uri": "https://localhost:8080/"
        },
        "outputId": "8cc65ee8-f724-4a56-9c38-0aca241df8f0"
      },
      "execution_count": 2,
      "outputs": [
        {
          "output_type": "stream",
          "name": "stdout",
          "text": [
            "Masukkan titik: 2\n",
            "Masukkan x dan y: \n",
            "x[0]=5\n",
            "y[0]=8\n",
            "x[1]=9\n",
            "y[1]=3\n",
            "\n",
            "TABEL\n",
            "\n",
            "5.00\t\t8.00\t\t-5.00\n",
            "9.00\t\t3.00\n"
          ]
        }
      ]
    }
  ]
}